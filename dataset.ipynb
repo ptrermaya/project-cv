{
 "cells": [
  {
   "cell_type": "markdown",
   "id": "a1400021",
   "metadata": {},
   "source": [
    "# Bedugul"
   ]
  },
  {
   "cell_type": "code",
   "execution_count": 1,
   "id": "a8cb07d6",
   "metadata": {},
   "outputs": [],
   "source": [
    "from bs4 import BeautifulSoup\n",
    "import requests\n",
    "import shutil\n",
    "import re"
   ]
  },
  {
   "cell_type": "code",
   "execution_count": 2,
   "id": "511beb81",
   "metadata": {},
   "outputs": [
    {
     "data": {
      "text/plain": [
       "[<img alt=\"\" class=\"yWs4tf\" src=\"https://encrypted-tbn0.gstatic.com/images?q=tbn:ANd9GcR-AZMArpwiXzeLhQuAAqqqlrWRN8U7dVSJtEvhLBtrJGA4Q3KEHsCCEWw8pSU&amp;s\"/>,\n",
       " <img alt=\"\" class=\"yWs4tf\" src=\"https://encrypted-tbn0.gstatic.com/images?q=tbn:ANd9GcSy34RSCthAlpzggG1MnCY2rA8u2GcO_GJcfI5QBrlgQnFOuUXOojYPCU3LRQ&amp;s\"/>,\n",
       " <img alt=\"\" class=\"yWs4tf\" src=\"https://encrypted-tbn0.gstatic.com/images?q=tbn:ANd9GcRL0xGukd-Jc6-RDrQ1lTYuIHgtQi5JnLAEglImMJQ_qh6-QzyVwzC81_10vg&amp;s\"/>,\n",
       " <img alt=\"\" class=\"yWs4tf\" src=\"https://encrypted-tbn0.gstatic.com/images?q=tbn:ANd9GcRE8RAtgGlfATL-Y5SRDBgzP9EvwWzdM59wIOVpaJWQS3zWDYV8I_Yp7PJ0LQ&amp;s\"/>,\n",
       " <img alt=\"\" class=\"yWs4tf\" src=\"https://encrypted-tbn0.gstatic.com/images?q=tbn:ANd9GcTD-ClbLjtKfdisHIV99eoqwcDYhOZGNNb1IgbyKGrpX4aHSWce0dboZTfovA&amp;s\"/>,\n",
       " <img alt=\"\" class=\"yWs4tf\" src=\"https://encrypted-tbn0.gstatic.com/images?q=tbn:ANd9GcRJwRNS6fnMizV7iDEQOqF9WgZ7j0WbFLmaSiggV6ZyXsGdbVb2bMgu6icNEFU&amp;s\"/>,\n",
       " <img alt=\"\" class=\"yWs4tf\" src=\"https://encrypted-tbn0.gstatic.com/images?q=tbn:ANd9GcSt4WgiWX9WqABRIvdqTv45W-TdYv66O84hX9XIc1BjNmAj0E1B1kFBPcRUjA&amp;s\"/>,\n",
       " <img alt=\"\" class=\"yWs4tf\" src=\"https://encrypted-tbn0.gstatic.com/images?q=tbn:ANd9GcTxb3rfOXtdPYYrF_3Bq_n52qWgMRwGr1TxtZr-12aUCA6MCK7KqeSyQXDhZg&amp;s\"/>,\n",
       " <img alt=\"\" class=\"yWs4tf\" src=\"https://encrypted-tbn0.gstatic.com/images?q=tbn:ANd9GcQDf3nXVFqt62c3KKjeOZInqp533cAj5UWGxI2_qh-w1PuiN6AckraMW6fswwc&amp;s\"/>,\n",
       " <img alt=\"\" class=\"yWs4tf\" src=\"https://encrypted-tbn0.gstatic.com/images?q=tbn:ANd9GcQ4lMbIHypOllsxDbFryQnige4IdqdqfGQjCOI3WegRxH2DMy91Q8qBoRZ2pcY&amp;s\"/>,\n",
       " <img alt=\"\" class=\"yWs4tf\" src=\"https://encrypted-tbn0.gstatic.com/images?q=tbn:ANd9GcRckIMh5u_xMc9JVDOaxdun7_6-FYPpupqDlNz8JHx058BcG4J2hsCiP0mYyA&amp;s\"/>,\n",
       " <img alt=\"\" class=\"yWs4tf\" src=\"https://encrypted-tbn0.gstatic.com/images?q=tbn:ANd9GcQi1TueUVkz4tzYImAvSLXy95hEuPN3O71DnWLQySspz6RnV45mhrmKBnwOs9A&amp;s\"/>,\n",
       " <img alt=\"\" class=\"yWs4tf\" src=\"https://encrypted-tbn0.gstatic.com/images?q=tbn:ANd9GcRWn4Qq0vHOloC3zp4OfSyBa7644OJ7xrWTxni4bNZACYyV6MYH_8KaqCuI0xg&amp;s\"/>,\n",
       " <img alt=\"\" class=\"yWs4tf\" src=\"https://encrypted-tbn0.gstatic.com/images?q=tbn:ANd9GcRTWoko7G4WP6ZHffWU_S9N0l3PWnHuG2ST7JPC8CQYW1OvrOa0fIRUCY5TUg&amp;s\"/>,\n",
       " <img alt=\"\" class=\"yWs4tf\" src=\"https://encrypted-tbn0.gstatic.com/images?q=tbn:ANd9GcTgG0AqzjNeAmtxLDzXFRxdoDVwB-E_ReNtiYmEgV4GcjUgt2anhrm6uOq8-Q&amp;s\"/>,\n",
       " <img alt=\"\" class=\"yWs4tf\" src=\"https://encrypted-tbn0.gstatic.com/images?q=tbn:ANd9GcQq4jYfGhn-nMCssDFqpl1A2dVlXBMBAZXKvybhL2MgxAfVx0Oimn0pjG5axg&amp;s\"/>,\n",
       " <img alt=\"\" class=\"yWs4tf\" src=\"https://encrypted-tbn0.gstatic.com/images?q=tbn:ANd9GcTY6mNvDvqMJYTq5Nx3YBqmwNlvSHWquV-Rdx3S17S-eEPwcUMyfNIJStFnmg&amp;s\"/>,\n",
       " <img alt=\"\" class=\"yWs4tf\" src=\"https://encrypted-tbn0.gstatic.com/images?q=tbn:ANd9GcShioKmnZl1qMQYh05CaiH9OrzZP6eYeAs8gK8rtxn1vrfz9AsE5iYR6vNmy8I&amp;s\"/>,\n",
       " <img alt=\"\" class=\"yWs4tf\" src=\"https://encrypted-tbn0.gstatic.com/images?q=tbn:ANd9GcTL07eMVH58kqrY-9Lf9ucJY16oV8a4ijBXjxTljhuqMQjH1NrTZzn2ZYBadEc&amp;s\"/>,\n",
       " <img alt=\"\" class=\"yWs4tf\" src=\"https://encrypted-tbn0.gstatic.com/images?q=tbn:ANd9GcQ7oqTosyWiXMd5CiB0T_Ee8z2edXaUVJUUh_doyg5_VNBwA0CMdffVwoOumg&amp;s\"/>]"
      ]
     },
     "execution_count": 2,
     "metadata": {},
     "output_type": "execute_result"
    }
   ],
   "source": [
    "url = \"https://www.google.com/search?q=pura+ulun+danu+beratan+bedugul&tbm=isch&ved=2ahUKEwiwu-qzk9j0AhWfktgFHRbMCcEQ2-cCegQIABAA&oq=pura&gs_lcp=CgNpbWcQARgBMgQIABBDMgQIABBDMggIABCABBCxAzIECAAQQzIHCAAQsQMQQzIKCAAQsQMQgwEQQzIHCAAQsQMQQzIECAAQQzIECAAQQzILCAAQgAQQsQMQgwE6BQgAEIAEULEHWOYPYMYgaABwAHgAgAFUiAH3ApIBATWYAQCgAQGqAQtnd3Mtd2l6LWltZ8ABAQ&sclient=img&ei=2LayYbDvBJ-l4t4PlpiniAw&bih=625&biw=1366\"\n",
    "response = requests.get(url)\n",
    "resUrl = BeautifulSoup(response.text, \"html.parser\")\n",
    "filter_url = resUrl.find_all(\"img\", {'src':re.compile('https:')})\n",
    "filter_url"
   ]
  },
  {
   "cell_type": "code",
   "execution_count": 3,
   "id": "0a75942a",
   "metadata": {},
   "outputs": [],
   "source": [
    "src_image = []\n",
    "for src in filter_url:\n",
    "  src_image.append(src.get('src'))"
   ]
  },
  {
   "cell_type": "code",
   "execution_count": 4,
   "id": "d3790d69",
   "metadata": {},
   "outputs": [],
   "source": [
    "def download(image):\n",
    "  response = requests.get(image, stream=True)\n",
    "  realname = ''.join(e for e in image if e.isalnum())\n",
    "  file = open(\"./bedugul/{}.jpg\".format(realname), 'wb')\n",
    "  response.raw.decode_content = True\n",
    "  shutil.copyfileobj(response.raw, file)\n",
    "  del response"
   ]
  },
  {
   "cell_type": "code",
   "execution_count": 5,
   "id": "3c4088b2",
   "metadata": {},
   "outputs": [],
   "source": [
    "for i in range(0, len(src_image)):\n",
    "  download(src_image[i])"
   ]
  },
  {
   "cell_type": "code",
   "execution_count": null,
   "id": "3467816d",
   "metadata": {},
   "outputs": [],
   "source": []
  },
  {
   "cell_type": "markdown",
   "id": "3fa3916c",
   "metadata": {},
   "source": [
    "# Pura Besakih"
   ]
  },
  {
   "cell_type": "code",
   "execution_count": 6,
   "id": "263a07fc",
   "metadata": {},
   "outputs": [
    {
     "data": {
      "text/plain": [
       "[<img alt=\"\" class=\"yWs4tf\" src=\"https://encrypted-tbn0.gstatic.com/images?q=tbn:ANd9GcTTwTe2TnviM81N2c4vrQ0ckhSpKnJ7Ou-ZP-fsfH67rhGsA8HLAvjQ7tEfUQ&amp;s\"/>,\n",
       " <img alt=\"\" class=\"yWs4tf\" src=\"https://encrypted-tbn0.gstatic.com/images?q=tbn:ANd9GcSZf81GR0VQ6LpV4kiriPqPoB4YcdGqJ9fUsskv-dlwBKr3mq1_BKlGhSZ1LHs&amp;s\"/>,\n",
       " <img alt=\"\" class=\"yWs4tf\" src=\"https://encrypted-tbn0.gstatic.com/images?q=tbn:ANd9GcTe3_N6ZUjMhyrUmkq3S1tTCC70gmCChUQ8rwunDNOcB1TrnZwxtBN1rNwBNQ&amp;s\"/>,\n",
       " <img alt=\"\" class=\"yWs4tf\" src=\"https://encrypted-tbn0.gstatic.com/images?q=tbn:ANd9GcSXeohGBrIjp-XckAhVYsqT9j0wkXus41-mww4W2SQORX_5dG-CFH8jHP_S5aI&amp;s\"/>,\n",
       " <img alt=\"\" class=\"yWs4tf\" src=\"https://encrypted-tbn0.gstatic.com/images?q=tbn:ANd9GcT1x-OpstAZssO9UrKZUpodZmioGUDx4hQcY8yOiE724gZdd_7LUWHY1bM53g&amp;s\"/>,\n",
       " <img alt=\"\" class=\"yWs4tf\" src=\"https://encrypted-tbn0.gstatic.com/images?q=tbn:ANd9GcToKuM-qBAIOp5SWR6LrwJ-8DegHPC0GYMev7d2VO-ug4D2DMnYU07EHnWzTw&amp;s\"/>,\n",
       " <img alt=\"\" class=\"yWs4tf\" src=\"https://encrypted-tbn0.gstatic.com/images?q=tbn:ANd9GcQNOgBdxr3JgYbKLKX-VJrhW6PJAXWxVVY-74zxqaswOEmPnMrv5Y8ithUXww&amp;s\"/>,\n",
       " <img alt=\"\" class=\"yWs4tf\" src=\"https://encrypted-tbn0.gstatic.com/images?q=tbn:ANd9GcTWmpygrTDGXU1WnKP0kMdHp6JKDLN3adxjxnelUmE0dX-9kWIfhv8aBrmtQKM&amp;s\"/>,\n",
       " <img alt=\"\" class=\"yWs4tf\" src=\"https://encrypted-tbn0.gstatic.com/images?q=tbn:ANd9GcS3oEK5u7vUM92McEq9dMgKp5WJHF05FAFYWkegFYs5EFPEkNvBk60cUFivKw&amp;s\"/>,\n",
       " <img alt=\"\" class=\"yWs4tf\" src=\"https://encrypted-tbn0.gstatic.com/images?q=tbn:ANd9GcQPaPmr_7gaiqpLy1VK2n_jj6E2zYF6ts8yJnuCR-ewKkkw8yxwz_FNVXa5Pw&amp;s\"/>,\n",
       " <img alt=\"\" class=\"yWs4tf\" src=\"https://encrypted-tbn0.gstatic.com/images?q=tbn:ANd9GcS28ALkrr2sCXoGmGyJQn83GlTqBqzeVu5uUEJ33XuGyzMsCC8W2aP-FuauuiM&amp;s\"/>,\n",
       " <img alt=\"\" class=\"yWs4tf\" src=\"https://encrypted-tbn0.gstatic.com/images?q=tbn:ANd9GcSE2G9YsjdMZNhuJKo8Gjz_FD66vAfr19Mxo3UkF2htATHk3tGJDrFAKkEQE80&amp;s\"/>,\n",
       " <img alt=\"\" class=\"yWs4tf\" src=\"https://encrypted-tbn0.gstatic.com/images?q=tbn:ANd9GcQgsDISdL2kRLzZU2B6UNBiM9C0E9ZaNUXwiynIIYrTvHzEJjyvV4vqkMXchw&amp;s\"/>,\n",
       " <img alt=\"\" class=\"yWs4tf\" src=\"https://encrypted-tbn0.gstatic.com/images?q=tbn:ANd9GcTkBYErMqNOolwvjtPCpvnSMMQNfVitOSy7q9YZQ-z9xI_s8IeQCvAjVj60Ag&amp;s\"/>,\n",
       " <img alt=\"\" class=\"yWs4tf\" src=\"https://encrypted-tbn0.gstatic.com/images?q=tbn:ANd9GcQxlTKfDWcQaltZY7vXfZiYpMc2s-zaGCm4jABYpw2klyFUrsXDoptVvLGCuw&amp;s\"/>,\n",
       " <img alt=\"\" class=\"yWs4tf\" src=\"https://encrypted-tbn0.gstatic.com/images?q=tbn:ANd9GcTruY9ko2eV0F45R5mSLJDkcvbWsWpSo0ZZ9zElLaKstEMeZaJhBWBggtM5PA&amp;s\"/>,\n",
       " <img alt=\"\" class=\"yWs4tf\" src=\"https://encrypted-tbn0.gstatic.com/images?q=tbn:ANd9GcS_WNKQ6APejyRq6H4EgYk5_cyACiejeZRdIqqXKbXJqzP6h7r9gHM1LCbJFyk&amp;s\"/>,\n",
       " <img alt=\"\" class=\"yWs4tf\" src=\"https://encrypted-tbn0.gstatic.com/images?q=tbn:ANd9GcR1xd_vRmZBE7l9vGxal6DViEqT24VRqoU2InK1EdZGPoosWlk2M9aGmDrN5w&amp;s\"/>,\n",
       " <img alt=\"\" class=\"yWs4tf\" src=\"https://encrypted-tbn0.gstatic.com/images?q=tbn:ANd9GcQckQRaYZdIqapgqzTwXBdGHLD6IUKjLWx88_aUK_XT16cmzfLXXK_QbKANXg&amp;s\"/>,\n",
       " <img alt=\"\" class=\"yWs4tf\" src=\"https://encrypted-tbn0.gstatic.com/images?q=tbn:ANd9GcTPiu-v2fZHeiuMZxnc7ORmvVWxHYTLSKVC1qQQjZIPmzGLY6rFj7GE6UBXrw&amp;s\"/>]"
      ]
     },
     "execution_count": 6,
     "metadata": {},
     "output_type": "execute_result"
    }
   ],
   "source": [
    "url = \"https://www.google.com/search?q=pura+besakih&tbm=isch&ved=2ahUKEwiktd7Ol9j0AhU0-zgGHcMcAfAQ2-cCegQIABAA&oq=pura+&gs_lcp=CgNpbWcQARgAMgcIABCxAxBDMgcIABCxAxBDMgcIABCxAxBDMgoIABCxAxCDARBDMgQIABBDMgQIABBDMgUIABCABDIFCAAQgAQyBAgAEEMyBAgAEEM6CwgAEIAEELEDEIMBOggIABCABBCxA1DyoAZYoKsGYJfCBmgCcAB4AYAB9weIAdEbkgEPMS4wLjEuMC4xLjAuMi4xmAEAoAEBqgELZ3dzLXdpei1pbWfAAQE&sclient=img&ei=QruyYaSMD7T24-EPw7mEgA8&bih=625&biw=1366\"\n",
    "response = requests.get(url)\n",
    "resUrl = BeautifulSoup(response.text, \"html.parser\")\n",
    "filter_url = resUrl.find_all(\"img\", {'src':re.compile('https:')})\n",
    "filter_url"
   ]
  },
  {
   "cell_type": "code",
   "execution_count": 7,
   "id": "80c4ee71",
   "metadata": {},
   "outputs": [],
   "source": [
    "src_image = []\n",
    "for src in filter_url:\n",
    "  src_image.append(src.get('src'))"
   ]
  },
  {
   "cell_type": "code",
   "execution_count": 8,
   "id": "4e5a5c48",
   "metadata": {},
   "outputs": [],
   "source": [
    "def download(image):\n",
    "  response = requests.get(image, stream=True)\n",
    "  realname = ''.join(e for e in image if e.isalnum())\n",
    "  file = open(\"./besakih/{}.jpg\".format(realname), 'wb')\n",
    "  response.raw.decode_content = True\n",
    "  shutil.copyfileobj(response.raw, file)\n",
    "  del response"
   ]
  },
  {
   "cell_type": "code",
   "execution_count": 9,
   "id": "f2adcefa",
   "metadata": {},
   "outputs": [],
   "source": [
    "for i in range(0, len(src_image)):\n",
    "  download(src_image[i])"
   ]
  },
  {
   "cell_type": "markdown",
   "id": "e5f74393",
   "metadata": {},
   "source": [
    "# Tanah Lot"
   ]
  },
  {
   "cell_type": "code",
   "execution_count": 18,
   "id": "c1fd5695",
   "metadata": {},
   "outputs": [
    {
     "data": {
      "text/plain": [
       "[<img alt=\"\" class=\"yWs4tf\" src=\"https://encrypted-tbn0.gstatic.com/images?q=tbn:ANd9GcSl1isk71x-9TbFl-fmQjfA2iGjicg0DgVnPGFbyhgs2mG7_UFyvglEDUZQWQ&amp;s\"/>,\n",
       " <img alt=\"\" class=\"yWs4tf\" src=\"https://encrypted-tbn0.gstatic.com/images?q=tbn:ANd9GcRaSnGhYb1xVt4eg9rGxQsEjvNfT3T9vqSJydJviBycScG3ODqirF66SnQnELg&amp;s\"/>,\n",
       " <img alt=\"\" class=\"yWs4tf\" src=\"https://encrypted-tbn0.gstatic.com/images?q=tbn:ANd9GcTNZXpT5_av36BHvbkoui0DdMbFSKcqZHC15aSANDPa3K1BFrL2HvOyLQdCWBI&amp;s\"/>,\n",
       " <img alt=\"\" class=\"yWs4tf\" src=\"https://encrypted-tbn0.gstatic.com/images?q=tbn:ANd9GcSxycUNnmDkqUNoPY633aJvYJB2MiYTU7beNZ0m4tcXpW1MYGlayCs5FFN8W2Y&amp;s\"/>,\n",
       " <img alt=\"\" class=\"yWs4tf\" src=\"https://encrypted-tbn0.gstatic.com/images?q=tbn:ANd9GcR4GO1U9PhOGEHRtOrH5idPC3UPQ7X6LBSQ9KwixQcIKxLN6a2_28uSIlZMOQ&amp;s\"/>,\n",
       " <img alt=\"\" class=\"yWs4tf\" src=\"https://encrypted-tbn0.gstatic.com/images?q=tbn:ANd9GcRN2ndJl44d3gOp7Vr4Ld91Sw5XwABf563bYqkgUqgZT2fSdjAZQahwNtPqRA&amp;s\"/>,\n",
       " <img alt=\"\" class=\"yWs4tf\" src=\"https://encrypted-tbn0.gstatic.com/images?q=tbn:ANd9GcR7BWMZ-qvr7tTV4lLeF5CMrq7GfnYGclqcs-Bri3LzeORC_FbGxW8AcfwBEQ&amp;s\"/>,\n",
       " <img alt=\"\" class=\"yWs4tf\" src=\"https://encrypted-tbn0.gstatic.com/images?q=tbn:ANd9GcQptEF0sOUgb_zg0HDRHtKnakSBWv_cwfV2Laj-3RSr9q7x0mE4mvhjCimgNg&amp;s\"/>,\n",
       " <img alt=\"\" class=\"yWs4tf\" src=\"https://encrypted-tbn0.gstatic.com/images?q=tbn:ANd9GcQxlDg0v2Ngg8GfYvJ4k1SRVsMFe8oixbYh7yM05P5IGKv9VEk-W42M9tBsMA&amp;s\"/>,\n",
       " <img alt=\"\" class=\"yWs4tf\" src=\"https://encrypted-tbn0.gstatic.com/images?q=tbn:ANd9GcTSf-41G4zeFg6I1w9dlQLj-uiP-iTOqLVONc-ADo3ehbhcuSNUSW-2Dfl7jg&amp;s\"/>,\n",
       " <img alt=\"\" class=\"yWs4tf\" src=\"https://encrypted-tbn0.gstatic.com/images?q=tbn:ANd9GcRb2_xSKKPQGxYNrt78-RQ4-q8nti0cTRnHyjWdwH2Piq3-7ZDiW0z8K0gjma8&amp;s\"/>,\n",
       " <img alt=\"\" class=\"yWs4tf\" src=\"https://encrypted-tbn0.gstatic.com/images?q=tbn:ANd9GcTVTvJTyzEvLOa25cf7dlduv5qf3jdMd88mTKmK6zkQv4Jvx9jmCelt7DuKSA&amp;s\"/>,\n",
       " <img alt=\"\" class=\"yWs4tf\" src=\"https://encrypted-tbn0.gstatic.com/images?q=tbn:ANd9GcR7X-cZLRd3VAAmZTzst0yAlleD1BBDmumctc9rzreVltq-X0FLZq2DXnV6mA&amp;s\"/>,\n",
       " <img alt=\"\" class=\"yWs4tf\" src=\"https://encrypted-tbn0.gstatic.com/images?q=tbn:ANd9GcS3MrHcSmp-yp-8Ichu_BZ4L1zO-vcFhxYAKIjxC9c6VciTAK8Lv2dTvhj5AmE&amp;s\"/>,\n",
       " <img alt=\"\" class=\"yWs4tf\" src=\"https://encrypted-tbn0.gstatic.com/images?q=tbn:ANd9GcTbHzAnKU019Skpm0l55BFsRp5bqcOXtffcQQX8bfmaL5qnPoYvBzvPAlbLQw&amp;s\"/>,\n",
       " <img alt=\"\" class=\"yWs4tf\" src=\"https://encrypted-tbn0.gstatic.com/images?q=tbn:ANd9GcSTS4lNrAWmYR__VgQs794htEyB8tvkwlxgyFuhmCyKSQcMdKhL4lKp6i7yoDw&amp;s\"/>,\n",
       " <img alt=\"\" class=\"yWs4tf\" src=\"https://encrypted-tbn0.gstatic.com/images?q=tbn:ANd9GcT8O-o8YORurKPbZPnhlcQNlCBTraNrwpMFEasji-0Uhyi6Xt_x-y5nlquChg&amp;s\"/>,\n",
       " <img alt=\"\" class=\"yWs4tf\" src=\"https://encrypted-tbn0.gstatic.com/images?q=tbn:ANd9GcRRlz1gWNvJsrsOyRA__HdHz_ace1DwACShhH7N8U2BPbBywV_wNqbEY92--A&amp;s\"/>,\n",
       " <img alt=\"\" class=\"yWs4tf\" src=\"https://encrypted-tbn0.gstatic.com/images?q=tbn:ANd9GcTNjZfmWynPdSNt6JHQgFpHFT64uCkJbGo6FjYwdw9Cr5OWp0L274_lfQNqaA&amp;s\"/>,\n",
       " <img alt=\"\" class=\"yWs4tf\" src=\"https://encrypted-tbn0.gstatic.com/images?q=tbn:ANd9GcTYtGxkYNF2WdVKUG4T4Hi9cZzg0TtI78jVSXIiL5ONz62gt8-KAxckrw0WjA&amp;s\"/>]"
      ]
     },
     "execution_count": 18,
     "metadata": {},
     "output_type": "execute_result"
    }
   ],
   "source": [
    "url = \"https://www.google.com/search?q=pura+tanah+lot&tbm=isch&ved=2ahUKEwjFusacpdj0AhW_AbcAHYq2BYcQ2-cCegQIABAA&oq=pura+tanah+lot&gs_lcp=CgNpbWcQAzIFCAAQgAQyBAgAEEMyBQgAEIAEMgUIABCABDIECAAQQzIECAAQQzIFCAAQgAQyBggAEAcQHjIGCAAQBxAeMgQIABAeOgcIABCxAxBDOggIABCABBCxA1DTClizE2D0FWgAcAB4AIABSogBkwOSAQE2mAEAoAEBqgELZ3dzLXdpei1pbWfAAQE&sclient=img&ei=h8myYYXbBb-D3LUPiu2WuAg&bih=625&biw=1366\"\n",
    "response = requests.get(url)\n",
    "resUrl = BeautifulSoup(response.text, \"html.parser\")\n",
    "filter_url = resUrl.find_all(\"img\", {'src':re.compile('https:')})\n",
    "filter_url"
   ]
  },
  {
   "cell_type": "code",
   "execution_count": 19,
   "id": "63e38f18",
   "metadata": {},
   "outputs": [],
   "source": [
    "src_image = []\n",
    "for src in filter_url:\n",
    "  src_image.append(src.get('src'))"
   ]
  },
  {
   "cell_type": "code",
   "execution_count": 20,
   "id": "9d2ac8ef",
   "metadata": {},
   "outputs": [],
   "source": [
    "def download(image):\n",
    "  response = requests.get(image, stream=True)\n",
    "  realname = ''.join(e for e in image if e.isalnum())\n",
    "  file = open(\"./tanahlot/{}.jpg\".format(realname), 'wb')\n",
    "  response.raw.decode_content = True\n",
    "  shutil.copyfileobj(response.raw, file)\n",
    "  del response"
   ]
  },
  {
   "cell_type": "code",
   "execution_count": 21,
   "id": "95a9cdd6",
   "metadata": {},
   "outputs": [],
   "source": [
    "for i in range(0, len(src_image)):\n",
    "  download(src_image[i])"
   ]
  },
  {
   "cell_type": "code",
   "execution_count": null,
   "id": "c95ee874",
   "metadata": {},
   "outputs": [],
   "source": []
  }
 ],
 "metadata": {
  "kernelspec": {
   "display_name": "Python 3",
   "language": "python",
   "name": "python3"
  },
  "language_info": {
   "codemirror_mode": {
    "name": "ipython",
    "version": 3
   },
   "file_extension": ".py",
   "mimetype": "text/x-python",
   "name": "python",
   "nbconvert_exporter": "python",
   "pygments_lexer": "ipython3",
   "version": "3.8.8"
  }
 },
 "nbformat": 4,
 "nbformat_minor": 5
}
